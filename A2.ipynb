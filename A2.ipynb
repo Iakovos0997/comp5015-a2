{
 "cells": [
  {
   "cell_type": "code",
   "execution_count": null,
   "metadata": {},
   "outputs": [
    {
     "name": "stdout",
     "output_type": "stream",
     "text": [
      "nlp-getting-started.zip: Skipping, found more recently modified local copy (use --force to force download)\n",
      "Archive:  nlp-getting-started.zip\n",
      "  inflating: nlp-getting-started/sample_submission.csv  \n",
      "  inflating: nlp-getting-started/test.csv  \n",
      "  inflating: nlp-getting-started/train.csv  \n"
     ]
    }
   ],
   "source": [
    "# Download and extract the dataset for NLP with Disaster Tweets Kaggle competition\n",
    "!kaggle competitions download -c nlp-getting-started\n",
    "!unzip nlp-getting-started.zip -d nlp-getting-started"
   ]
  }
 ],
 "metadata": {
  "kernelspec": {
   "display_name": "Python 3",
   "language": "python",
   "name": "python3"
  },
  "language_info": {
   "codemirror_mode": {
    "name": "ipython",
    "version": 3
   },
   "file_extension": ".py",
   "mimetype": "text/x-python",
   "name": "python",
   "nbconvert_exporter": "python",
   "pygments_lexer": "ipython3",
   "version": "3.10.7"
  }
 },
 "nbformat": 4,
 "nbformat_minor": 2
}
